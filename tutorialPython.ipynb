{
 "cells": [
  {
   "cell_type": "markdown",
   "metadata": {
    "toc": "true"
   },
   "source": [
    "# Table of Contents\n",
    " <p><div class=\"lev1 toc-item\"><a href=\"#Introducción\" data-toc-modified-id=\"Introducción-1\"><span class=\"toc-item-num\">1&nbsp;&nbsp;</span>Introducción</a></div><div class=\"lev2 toc-item\"><a href=\"#Guía-de-aprendizaje\" data-toc-modified-id=\"Guía-de-aprendizaje-1.1\"><span class=\"toc-item-num\">1.1&nbsp;&nbsp;</span>Guía de aprendizaje</a></div><div class=\"lev2 toc-item\"><a href=\"#Ejemplo.-Averiguar-la-letra-del-DNI\" data-toc-modified-id=\"Ejemplo.-Averiguar-la-letra-del-DNI-1.2\"><span class=\"toc-item-num\">1.2&nbsp;&nbsp;</span>Ejemplo. Averiguar la letra del DNI</a></div><div class=\"lev1 toc-item\"><a href=\"#Unidad-1.-Tipos,-variables-y-estructuras-básicas.\" data-toc-modified-id=\"Unidad-1.-Tipos,-variables-y-estructuras-básicas.-2\"><span class=\"toc-item-num\">2&nbsp;&nbsp;</span>Unidad 1. Tipos, variables y estructuras básicas.</a></div><div class=\"lev2 toc-item\"><a href=\"#El-método-print(-)\" data-toc-modified-id=\"El-método-print(-)-2.1\"><span class=\"toc-item-num\">2.1&nbsp;&nbsp;</span>El método <em>print( )</em></a></div><div class=\"lev2 toc-item\"><a href=\"#Tipos-básicos\" data-toc-modified-id=\"Tipos-básicos-2.2\"><span class=\"toc-item-num\">2.2&nbsp;&nbsp;</span>Tipos básicos</a></div><div class=\"lev2 toc-item\"><a href=\"#Variables\" data-toc-modified-id=\"Variables-2.3\"><span class=\"toc-item-num\">2.3&nbsp;&nbsp;</span>Variables</a></div><div class=\"lev2 toc-item\"><a href=\"#Estructuras-básicas\" data-toc-modified-id=\"Estructuras-básicas-2.4\"><span class=\"toc-item-num\">2.4&nbsp;&nbsp;</span>Estructuras básicas</a></div><div class=\"lev3 toc-item\"><a href=\"#Listas\" data-toc-modified-id=\"Listas-2.4.1\"><span class=\"toc-item-num\">2.4.1&nbsp;&nbsp;</span>Listas</a></div><div class=\"lev3 toc-item\"><a href=\"#Tuplas\" data-toc-modified-id=\"Tuplas-2.4.2\"><span class=\"toc-item-num\">2.4.2&nbsp;&nbsp;</span>Tuplas</a></div><div class=\"lev3 toc-item\"><a href=\"#Diccionarios\" data-toc-modified-id=\"Diccionarios-2.4.3\"><span class=\"toc-item-num\">2.4.3&nbsp;&nbsp;</span>Diccionarios</a></div><div class=\"lev1 toc-item\"><a href=\"#Unidad-2.-Condicionales-y-bucles\" data-toc-modified-id=\"Unidad-2.-Condicionales-y-bucles-3\"><span class=\"toc-item-num\">3&nbsp;&nbsp;</span>Unidad 2. Condicionales y bucles</a></div><div class=\"lev2 toc-item\"><a href=\"#Condicionales:-if,-elif,-else\" data-toc-modified-id=\"Condicionales:-if,-elif,-else-3.1\"><span class=\"toc-item-num\">3.1&nbsp;&nbsp;</span>Condicionales: <em>if</em>, <em>elif</em>, <em>else</em></a></div><div class=\"lev2 toc-item\"><a href=\"#Bucles\" data-toc-modified-id=\"Bucles-3.2\"><span class=\"toc-item-num\">3.2&nbsp;&nbsp;</span>Bucles</a></div><div class=\"lev3 toc-item\"><a href=\"#Bucle-while\" data-toc-modified-id=\"Bucle-while-3.2.1\"><span class=\"toc-item-num\">3.2.1&nbsp;&nbsp;</span>Bucle <em>while</em></a></div><div class=\"lev3 toc-item\"><a href=\"#Bucle-for\" data-toc-modified-id=\"Bucle-for-3.2.2\"><span class=\"toc-item-num\">3.2.2&nbsp;&nbsp;</span>Bucle <em>for</em></a></div><div class=\"lev3 toc-item\"><a href=\"#continue,-pass,-break\" data-toc-modified-id=\"continue,-pass,-break-3.2.3\"><span class=\"toc-item-num\">3.2.3&nbsp;&nbsp;</span><em>continue, pass, break</em></a></div><div class=\"lev2 toc-item\"><a href=\"#Generadores-I.-range\" data-toc-modified-id=\"Generadores-I.-range-3.3\"><span class=\"toc-item-num\">3.3&nbsp;&nbsp;</span>Generadores I. <em>range</em></a></div><div class=\"lev1 toc-item\"><a href=\"#Unidad-3.-Funciones\" data-toc-modified-id=\"Unidad-3.-Funciones-4\"><span class=\"toc-item-num\">4&nbsp;&nbsp;</span>Unidad 3. Funciones</a></div><div class=\"lev2 toc-item\"><a href=\"#Generadores-II.-yield\" data-toc-modified-id=\"Generadores-II.-yield-4.1\"><span class=\"toc-item-num\">4.1&nbsp;&nbsp;</span>Generadores II. <em>yield</em></a></div><div class=\"lev1 toc-item\"><a href=\"#Unidad-4.-Módulos,-librerías,-extensiones\" data-toc-modified-id=\"Unidad-4.-Módulos,-librerías,-extensiones-5\"><span class=\"toc-item-num\">5&nbsp;&nbsp;</span>Unidad 4. Módulos, librerías, extensiones</a></div><div class=\"lev2 toc-item\"><a href=\"#Módulos-y-librerías\" data-toc-modified-id=\"Módulos-y-librerías-5.1\"><span class=\"toc-item-num\">5.1&nbsp;&nbsp;</span>Módulos y librerías</a></div><div class=\"lev2 toc-item\"><a href=\"#Extensiones\" data-toc-modified-id=\"Extensiones-5.2\"><span class=\"toc-item-num\">5.2&nbsp;&nbsp;</span>Extensiones</a></div>"
   ]
  },
  {
   "cell_type": "markdown",
   "metadata": {},
   "source": [
    "# Introducción\n",
    "\n",
    "En este tutorial se estudiarán los aspectos básicos para empezar a programar con Python.\n",
    "\n",
    "Python es un lenguaje de programación que cumple las siguientes características:\n",
    "\n",
    "<br>\n",
    "\n",
    "|Python es un lenguaje...||\n",
    "|:--|:--|\n",
    "|Bajo nivel (realiza operaciones y usa objetos a nivel de la máquina)|**Alto nivel** (trabaja mediante abstraciones)||\n",
    "|**General** (sirve para muchas tareas informáticas)|Específico de un nicho concreto|\n",
    "|**Interpretado** (el código se ejecuta directamente por parte de un interprete)|Compilado (el código se trasnforma a nivel de máquina por parte de un compilador y luego se ejecuta)|\n",
    "\n",
    "<br>\n",
    "\n",
    "Es recomendable que el estudiante cambie o añada cosas al tutorial para **aprender haciendo**.\n",
    "\n",
    "<br>\n",
    "<br>\n",
    "\n",
    "## Guía de aprendizaje\n",
    "\n",
    "<p></p>\n",
    "<div style=width:50%;background-color:#77d6ff;padding:5px;border:2px,solid,black;>\n",
    "<p>**Bloque teórico**</p>\n",
    "<p>Bloques con las explicaciones teóricas del contenido de la sección.</p>\n",
    "</div> \n",
    "<br>\n",
    "<div style=width:50%;background-color:#ffe27a;padding:5px;border:2px,solid,black;>\n",
    "<p>**Para ampliar**</p>\n",
    "<p>Bloques con información para profundizar en los contenidos tratados en esa sección.</p>\n",
    "</div> "
   ]
  },
  {
   "cell_type": "markdown",
   "metadata": {},
   "source": [
    "## Ejemplo. Averiguar la letra del DNI"
   ]
  },
  {
   "cell_type": "code",
   "execution_count": 24,
   "metadata": {
    "ExecuteTime": {
     "end_time": "2017-01-22T19:49:53.887067",
     "start_time": "2017-01-22T19:49:47.514068"
    },
    "collapsed": false
   },
   "outputs": [
    {
     "name": "stdout",
     "output_type": "stream",
     "text": [
      "¿Cuál es tu número de DNI (sin letra)? 76047549\n",
      "\n",
      "Tu DNI completo es 76047549-G\n"
     ]
    }
   ],
   "source": [
    "resto = [0,1,2,3,4,5,6,7,8,9,10,11,12,13,14,15,16,17,18,19,20,21,22]\n",
    "letra = ['T','R','W','A','G','M','Y','F','P','D','X','B','N','J','Z','S','Q','V','H','L','C','K','E']\n",
    "\n",
    "diccionario = dict(zip(resto, letra))\n",
    "\n",
    "num_dni = input('¿Cuál es tu número de DNI (sin letra)? ')\n",
    "r = int(num_dni) % 23\n",
    "\n",
    "for resto, letra in diccionario.items():\n",
    "    if resto == r:\n",
    "        print('')\n",
    "        print('Tu DNI completo es {}-{}'.format(num_dni, letra))"
   ]
  },
  {
   "cell_type": "markdown",
   "metadata": {},
   "source": [
    "# Unidad 1. Tipos, variables y estructuras básicas.\n",
    "\n",
    "## El método *print( )*\n",
    "\n",
    "<p></p>\n",
    "<div style=width:50%;background-color:#77d6ff;padding:5px;border:2px,solid,black;>\n",
    "<p>**_print( )_**</p>\n",
    "<p>Esta acción consiste simplemente en mostrar en pantalla un número, una operación, un texto, una variable o una estructura.</p>\n",
    "</div> "
   ]
  },
  {
   "cell_type": "code",
   "execution_count": 25,
   "metadata": {
    "ExecuteTime": {
     "end_time": "2017-01-22T19:49:53.896071",
     "start_time": "2017-01-22T19:49:53.889065"
    },
    "collapsed": false
   },
   "outputs": [
    {
     "name": "stdout",
     "output_type": "stream",
     "text": [
      "6\n",
      "6.5\n",
      "15\n",
      "¡Hola!\n",
      "False\n",
      "Vamos a imprimir 3 cosas juntas\n"
     ]
    }
   ],
   "source": [
    "print(6)\n",
    "print(6.5)\n",
    "print(3*5)\n",
    "print('¡Hola!')\n",
    "print(2>4)\n",
    "\n",
    "print('Vamos a imprimir', 2+1, 'cosas juntas')"
   ]
  },
  {
   "cell_type": "markdown",
   "metadata": {},
   "source": [
    "## Tipos básicos\n",
    "\n",
    "<p></p>\n",
    "<div style=width:50%;background-color:#77d6ff;padding:5px;border:2px,solid,black;>\n",
    "<p>**Valores numéricos**</p>\n",
    "<p>Dentro de los valores numéricos, podemos encontrar dos grupos diferentes:</p>\n",
    "<ul>\n",
    "<li>**int**, o valores enteros. Ej: 5, 99, -4\n",
    "<li>**float**, o valores flotantes, es decir, que tienen parte decimal. Ej: 5.5, 99.0\n",
    "</ul>\n",
    "<p>Para saber el tipo en python utilizamos el método _**type( )**_</p>\n",
    "</div> \n",
    "<p></p>"
   ]
  },
  {
   "cell_type": "code",
   "execution_count": 26,
   "metadata": {
    "ExecuteTime": {
     "end_time": "2017-01-22T19:49:54.054897",
     "start_time": "2017-01-22T19:49:53.899073"
    },
    "collapsed": false
   },
   "outputs": [
    {
     "data": {
      "text/plain": [
       "int"
      ]
     },
     "execution_count": 26,
     "metadata": {},
     "output_type": "execute_result"
    }
   ],
   "source": [
    "type(6)"
   ]
  },
  {
   "cell_type": "code",
   "execution_count": 27,
   "metadata": {
    "ExecuteTime": {
     "end_time": "2017-01-22T19:49:54.151960",
     "start_time": "2017-01-22T19:49:54.059904"
    },
    "collapsed": false
   },
   "outputs": [
    {
     "data": {
      "text/plain": [
       "float"
      ]
     },
     "execution_count": 27,
     "metadata": {},
     "output_type": "execute_result"
    }
   ],
   "source": [
    "type(6.5)"
   ]
  },
  {
   "cell_type": "code",
   "execution_count": 28,
   "metadata": {
    "ExecuteTime": {
     "end_time": "2017-01-22T19:49:54.266081",
     "start_time": "2017-01-22T19:49:54.155964"
    },
    "collapsed": false
   },
   "outputs": [
    {
     "data": {
      "text/plain": [
       "int"
      ]
     },
     "execution_count": 28,
     "metadata": {},
     "output_type": "execute_result"
    }
   ],
   "source": [
    "type(5+2)"
   ]
  },
  {
   "cell_type": "markdown",
   "metadata": {},
   "source": [
    "<p></p>\n",
    "<div style=width:50%;background-color:#77d6ff;padding:5px;border:2px,solid,black;>\n",
    "<p>**Operaciones numéricas**</p>\n",
    "<p>Con los valores numéricos (y también con otros, pero eso ya lo veremos) podemos realizar diferentes operaciones:</p>\n",
    "<ul>\n",
    "<li>**suma**: a + b\n",
    "<li>**resta**: a - b\n",
    "<li>**producto**: a \\* b\n",
    "<li>**división**: a / b\n",
    "<li>**resto/módulo**: a % b\n",
    "<li>**potencia**: a \\*\\* b\n",
    "</ul>\n",
    "<p>El **tipo del resultado** será siempre el de los números que utilicemos. Si son diferentes (int y float) el resultado será siempre del tipo float.</p>\n",
    "</div> \n"
   ]
  },
  {
   "cell_type": "code",
   "execution_count": 29,
   "metadata": {
    "ExecuteTime": {
     "end_time": "2017-01-22T19:49:54.376156",
     "start_time": "2017-01-22T19:49:54.271085"
    },
    "collapsed": false
   },
   "outputs": [
    {
     "name": "stdout",
     "output_type": "stream",
     "text": [
      "4.0\n"
     ]
    },
    {
     "data": {
      "text/plain": [
       "float"
      ]
     },
     "execution_count": 29,
     "metadata": {},
     "output_type": "execute_result"
    }
   ],
   "source": [
    "print(8/2.0)\n",
    "type(8/2.0)"
   ]
  },
  {
   "cell_type": "code",
   "execution_count": 30,
   "metadata": {
    "ExecuteTime": {
     "end_time": "2017-01-22T19:49:54.487210",
     "start_time": "2017-01-22T19:49:54.378156"
    },
    "collapsed": false
   },
   "outputs": [
    {
     "name": "stdout",
     "output_type": "stream",
     "text": [
      "3\n"
     ]
    },
    {
     "data": {
      "text/plain": [
       "int"
      ]
     },
     "execution_count": 30,
     "metadata": {},
     "output_type": "execute_result"
    }
   ],
   "source": [
    "print(15%4)\n",
    "type(15%4)"
   ]
  },
  {
   "cell_type": "code",
   "execution_count": 31,
   "metadata": {
    "ExecuteTime": {
     "end_time": "2017-01-22T19:49:54.607321",
     "start_time": "2017-01-22T19:49:54.490211"
    },
    "collapsed": false
   },
   "outputs": [
    {
     "name": "stdout",
     "output_type": "stream",
     "text": [
      "16.0\n"
     ]
    },
    {
     "data": {
      "text/plain": [
       "float"
      ]
     },
     "execution_count": 31,
     "metadata": {},
     "output_type": "execute_result"
    }
   ],
   "source": [
    "print(2.0**4)\n",
    "type(2.0**4)"
   ]
  },
  {
   "cell_type": "markdown",
   "metadata": {},
   "source": [
    "<div style=width:50%;background-color:#ffe27a;padding:5px;border:2px,solid,black;>\n",
    "<p>**El caso de la división**</p>\n",
    "<p>En python podemos obtener dos tipos de valores numéricos como resultado de una división:</p>\n",
    "<ul>\n",
    "<li>**int**, para lo que utilizamos **//**\n",
    "<li>**float**, usando **/**\n",
    "</ul>\n",
    "</div> "
   ]
  },
  {
   "cell_type": "code",
   "execution_count": 32,
   "metadata": {
    "ExecuteTime": {
     "end_time": "2017-01-22T19:49:54.731520",
     "start_time": "2017-01-22T19:49:54.610324"
    },
    "collapsed": false
   },
   "outputs": [
    {
     "name": "stdout",
     "output_type": "stream",
     "text": [
      "2\n"
     ]
    },
    {
     "data": {
      "text/plain": [
       "int"
      ]
     },
     "execution_count": 32,
     "metadata": {},
     "output_type": "execute_result"
    }
   ],
   "source": [
    "print(5//2)\n",
    "type(5//2)"
   ]
  },
  {
   "cell_type": "code",
   "execution_count": 33,
   "metadata": {
    "ExecuteTime": {
     "end_time": "2017-01-22T19:49:54.856603",
     "start_time": "2017-01-22T19:49:54.734520"
    },
    "collapsed": false
   },
   "outputs": [
    {
     "name": "stdout",
     "output_type": "stream",
     "text": [
      "2.5\n"
     ]
    },
    {
     "data": {
      "text/plain": [
       "float"
      ]
     },
     "execution_count": 33,
     "metadata": {},
     "output_type": "execute_result"
    }
   ],
   "source": [
    "print(5/2)\n",
    "type(5/2)"
   ]
  },
  {
   "cell_type": "markdown",
   "metadata": {},
   "source": [
    "<br>\n",
    "<div style=width:50%;background-color:#77d6ff;padding:5px;border:2px,solid,black;>\n",
    "<p>**Texto**</p>\n",
    "<ul>\n",
    "<li>**string**: palabras, frases... Ej: hola, la manzana...\n",
    "</ul>\n",
    "</div> \n",
    "<br>"
   ]
  },
  {
   "cell_type": "code",
   "execution_count": 34,
   "metadata": {
    "ExecuteTime": {
     "end_time": "2017-01-22T19:49:54.954666",
     "start_time": "2017-01-22T19:49:54.860604"
    },
    "collapsed": false
   },
   "outputs": [
    {
     "data": {
      "text/plain": [
       "str"
      ]
     },
     "execution_count": 34,
     "metadata": {},
     "output_type": "execute_result"
    }
   ],
   "source": [
    "type('hola')"
   ]
  },
  {
   "cell_type": "code",
   "execution_count": 35,
   "metadata": {
    "ExecuteTime": {
     "end_time": "2017-01-22T19:49:55.053732",
     "start_time": "2017-01-22T19:49:54.958669"
    },
    "collapsed": false
   },
   "outputs": [
    {
     "data": {
      "text/plain": [
       "str"
      ]
     },
     "execution_count": 35,
     "metadata": {},
     "output_type": "execute_result"
    }
   ],
   "source": [
    "type('6')"
   ]
  },
  {
   "cell_type": "markdown",
   "metadata": {
    "ExecuteTime": {
     "end_time": "2016-12-23T20:16:27.002604",
     "start_time": "2016-12-23T20:16:26.979586"
    }
   },
   "source": [
    "<br>\n",
    "<div style=width:50%;background-color:#ffe27a;padding:5px;border:2px,solid,black;>\n",
    "<p>**Métodos de _string_**</p>\n",
    "<p>Los _string_ poseen una gran cantidad de métodos y es muy útil profundizar en su conocimiento.</p>\n",
    "</div> \n",
    "<br>"
   ]
  },
  {
   "cell_type": "code",
   "execution_count": 36,
   "metadata": {
    "ExecuteTime": {
     "end_time": "2017-01-22T19:49:55.220474",
     "start_time": "2017-01-22T19:49:55.057736"
    },
    "collapsed": false
   },
   "outputs": [
    {
     "data": {
      "text/plain": [
       "'HOLA'"
      ]
     },
     "execution_count": 36,
     "metadata": {},
     "output_type": "execute_result"
    }
   ],
   "source": [
    "'hOlA'.upper()"
   ]
  },
  {
   "cell_type": "code",
   "execution_count": 37,
   "metadata": {
    "ExecuteTime": {
     "end_time": "2017-01-22T19:49:55.364571",
     "start_time": "2017-01-22T19:49:55.224477"
    },
    "collapsed": false
   },
   "outputs": [
    {
     "data": {
      "text/plain": [
       "['hola', 'amigo', 'mío']"
      ]
     },
     "execution_count": 37,
     "metadata": {},
     "output_type": "execute_result"
    }
   ],
   "source": [
    "'hola amigo mío'.split()"
   ]
  },
  {
   "cell_type": "code",
   "execution_count": 38,
   "metadata": {
    "ExecuteTime": {
     "end_time": "2017-01-22T19:49:55.498660",
     "start_time": "2017-01-22T19:49:55.372576"
    },
    "collapsed": false
   },
   "outputs": [
    {
     "data": {
      "text/plain": [
       "'hola'"
      ]
     },
     "execution_count": 38,
     "metadata": {},
     "output_type": "execute_result"
    }
   ],
   "source": [
    "'hOlA'.lower()"
   ]
  },
  {
   "cell_type": "markdown",
   "metadata": {},
   "source": [
    "<br>\n",
    "<div style=width:50%;background-color:#ffe27a;padding:5px;border:2px,solid,black;>\n",
    "<p>**Indexación y desplazamiento en _strings_**</p>\n",
    "<br>\n",
    "<p>Es posible acceder a determinados elementos de una _string_ en base a su índice (la posición que ocupan), así como seleccionar grupos de elementos.</p>\n",
    "<ul>\n",
    "<li>Para acceder a un elemento usamos _nombre-string[2]_, si queremos acceder al tercer elemento (Python empieza a contar por el 0). _nombre-string[-1]_ se refiere al último elemento de la _string_.\n",
    "<li>Para acceder a un rango usamos _nombre-string[2:7]_, si queremos acceder a los elementos del tres al siete.\n",
    "</ul>\n",
    "</div> \n",
    "<br>"
   ]
  },
  {
   "cell_type": "code",
   "execution_count": 39,
   "metadata": {
    "ExecuteTime": {
     "end_time": "2017-01-22T19:49:55.595725",
     "start_time": "2017-01-22T19:49:55.502663"
    },
    "collapsed": false
   },
   "outputs": [
    {
     "data": {
      "text/plain": [
       "'l'"
      ]
     },
     "execution_count": 39,
     "metadata": {},
     "output_type": "execute_result"
    }
   ],
   "source": [
    "'hola amigo mío'[2]"
   ]
  },
  {
   "cell_type": "code",
   "execution_count": 40,
   "metadata": {
    "ExecuteTime": {
     "end_time": "2017-01-22T19:49:55.706799",
     "start_time": "2017-01-22T19:49:55.599728"
    },
    "collapsed": false
   },
   "outputs": [
    {
     "data": {
      "text/plain": [
       "'o'"
      ]
     },
     "execution_count": 40,
     "metadata": {},
     "output_type": "execute_result"
    }
   ],
   "source": [
    "'hola amigo mío'[-1]"
   ]
  },
  {
   "cell_type": "code",
   "execution_count": 41,
   "metadata": {
    "ExecuteTime": {
     "end_time": "2017-01-22T19:49:55.817875",
     "start_time": "2017-01-22T19:49:55.710802"
    },
    "collapsed": false
   },
   "outputs": [
    {
     "data": {
      "text/plain": [
       "'la am'"
      ]
     },
     "execution_count": 41,
     "metadata": {},
     "output_type": "execute_result"
    }
   ],
   "source": [
    "'hola amigo mío'[2:7]"
   ]
  },
  {
   "cell_type": "markdown",
   "metadata": {},
   "source": [
    "<br>\n",
    "<div style=width:50%;background-color:#77d6ff;padding:5px;border:2px,solid,black;>\n",
    "<p>**Valores lógicos**</p>\n",
    "<ul>\n",
    "<li>**boolean**: Valores lógicos Ej: True, False\n",
    "</ul>\n",
    "</div> \n",
    "<br>"
   ]
  },
  {
   "cell_type": "code",
   "execution_count": 42,
   "metadata": {
    "ExecuteTime": {
     "end_time": "2017-01-22T19:49:55.962970",
     "start_time": "2017-01-22T19:49:55.821876"
    },
    "collapsed": false
   },
   "outputs": [
    {
     "data": {
      "text/plain": [
       "bool"
      ]
     },
     "execution_count": 42,
     "metadata": {},
     "output_type": "execute_result"
    }
   ],
   "source": [
    "type(3==3)"
   ]
  },
  {
   "cell_type": "code",
   "execution_count": 43,
   "metadata": {
    "ExecuteTime": {
     "end_time": "2017-01-22T19:49:56.167106",
     "start_time": "2017-01-22T19:49:55.965972"
    },
    "collapsed": false
   },
   "outputs": [
    {
     "data": {
      "text/plain": [
       "bool"
      ]
     },
     "execution_count": 43,
     "metadata": {},
     "output_type": "execute_result"
    }
   ],
   "source": [
    "type(True)"
   ]
  },
  {
   "cell_type": "markdown",
   "metadata": {},
   "source": [
    "<p></p>\n",
    "<div style=width:50%;background-color:#77d6ff;padding:5px;border:2px,solid,black;>\n",
    "<p>**Operaciones lógicas**</p>\n",
    "<p>Algunas de estas operaciones son:</p>\n",
    "<ul>\n",
    "<li>**igual**: a == b\n",
    "<li>**distinto**: a != b\n",
    "<li>**mayor**: a > b\n",
    "<li>**mayor o igual**: a >= b\n",
    "<li>**menor**: a < b\n",
    "<li>**menor o igual**: a <= b\n",
    "<li>**igual**: a == b\n",
    "<li>**distinto**: a != b\n",
    "<li>**y**: a and b\n",
    "<li>**o**: a or b\n",
    "<li>**opuesto**: not a\n",
    "</ul>\n",
    "<p>El **tipo del resultado** será siempre el de los números que utilicemos. Si son diferentes (int y float) el resultado será siempre del tipo float.</p>\n",
    "</div> "
   ]
  },
  {
   "cell_type": "code",
   "execution_count": 44,
   "metadata": {
    "ExecuteTime": {
     "end_time": "2017-01-22T19:49:56.261169",
     "start_time": "2017-01-22T19:49:56.171109"
    },
    "collapsed": false
   },
   "outputs": [
    {
     "name": "stdout",
     "output_type": "stream",
     "text": [
      "True\n"
     ]
    }
   ],
   "source": [
    "print(8==8.0)"
   ]
  },
  {
   "cell_type": "code",
   "execution_count": 45,
   "metadata": {
    "ExecuteTime": {
     "end_time": "2017-01-22T19:49:56.360235",
     "start_time": "2017-01-22T19:49:56.265172"
    },
    "collapsed": false
   },
   "outputs": [
    {
     "name": "stdout",
     "output_type": "stream",
     "text": [
      "False\n"
     ]
    }
   ],
   "source": [
    "print(3>6)"
   ]
  },
  {
   "cell_type": "code",
   "execution_count": 46,
   "metadata": {
    "ExecuteTime": {
     "end_time": "2017-01-22T19:49:56.439288",
     "start_time": "2017-01-22T19:49:56.364238"
    },
    "collapsed": false
   },
   "outputs": [
    {
     "name": "stdout",
     "output_type": "stream",
     "text": [
      "False\n"
     ]
    }
   ],
   "source": [
    "print(True and False)"
   ]
  },
  {
   "cell_type": "code",
   "execution_count": 47,
   "metadata": {
    "ExecuteTime": {
     "end_time": "2017-01-22T19:49:56.507333",
     "start_time": "2017-01-22T19:49:56.442290"
    },
    "collapsed": false
   },
   "outputs": [
    {
     "name": "stdout",
     "output_type": "stream",
     "text": [
      "False\n"
     ]
    }
   ],
   "source": [
    "print(False or False)"
   ]
  },
  {
   "cell_type": "code",
   "execution_count": 48,
   "metadata": {
    "ExecuteTime": {
     "end_time": "2017-01-22T19:49:56.606400",
     "start_time": "2017-01-22T19:49:56.511336"
    },
    "collapsed": false
   },
   "outputs": [
    {
     "name": "stdout",
     "output_type": "stream",
     "text": [
      "True\n"
     ]
    }
   ],
   "source": [
    "print( (True and True) != ( not True) )"
   ]
  },
  {
   "cell_type": "code",
   "execution_count": 49,
   "metadata": {
    "ExecuteTime": {
     "end_time": "2017-01-22T19:49:56.731484",
     "start_time": "2017-01-22T19:49:56.610403"
    },
    "collapsed": false
   },
   "outputs": [
    {
     "name": "stdout",
     "output_type": "stream",
     "text": [
      "True\n"
     ]
    }
   ],
   "source": [
    "print(5 != '5')"
   ]
  },
  {
   "cell_type": "code",
   "execution_count": 50,
   "metadata": {
    "ExecuteTime": {
     "end_time": "2017-01-22T19:49:56.861570",
     "start_time": "2017-01-22T19:49:56.735487"
    },
    "collapsed": false
   },
   "outputs": [
    {
     "name": "stdout",
     "output_type": "stream",
     "text": [
      "True\n"
     ]
    }
   ],
   "source": [
    "print(5 == int('5'))"
   ]
  },
  {
   "cell_type": "markdown",
   "metadata": {},
   "source": [
    "## Variables\n",
    "\n",
    "<br>\n",
    "<div style=width:50%;background-color:#77d6ff;padding:5px;border:2px,solid,black;>\n",
    "<p>Uno de los aspectos más importantes de los lenguajes de programación es que podemos crear variables.</p>\n",
    "<p>Un variable simplemente es un nombre, y a ese nombre le asignamos un valor, una operación, un método...</p>\n",
    "<p>Podemos usar casi cualquier palabra para crear una variable, siempre que empiece por una letra y no contenga espacios.</p>\n",
    "\n",
    "<p>Las palabras que no se pueden utilizar, debido a que son propias del lenguaje, serán: **'False', 'None', 'True', 'and', 'as', 'assert', 'break', 'class', 'continue', 'def', 'del', 'elif', 'else', 'except', 'finally', 'for', 'from', 'global', 'if', 'import', 'in', 'is', 'lambda', 'nonlocal', 'not', 'or', 'pass', 'raise', 'return', 'try', 'while', 'with', 'yield'**</p>\n",
    "</div> \n",
    "<br>"
   ]
  },
  {
   "cell_type": "code",
   "execution_count": 51,
   "metadata": {
    "ExecuteTime": {
     "end_time": "2017-01-22T19:49:56.963640",
     "start_time": "2017-01-22T19:49:56.865573"
    },
    "collapsed": true
   },
   "outputs": [],
   "source": [
    "x = 5"
   ]
  },
  {
   "cell_type": "code",
   "execution_count": 52,
   "metadata": {
    "ExecuteTime": {
     "end_time": "2017-01-22T19:49:57.051697",
     "start_time": "2017-01-22T19:49:56.967641"
    },
    "collapsed": false
   },
   "outputs": [
    {
     "name": "stdout",
     "output_type": "stream",
     "text": [
      "5\n"
     ]
    }
   ],
   "source": [
    "print(x)"
   ]
  },
  {
   "cell_type": "code",
   "execution_count": 53,
   "metadata": {
    "ExecuteTime": {
     "end_time": "2017-01-22T19:49:57.139756",
     "start_time": "2017-01-22T19:49:57.055701"
    },
    "collapsed": false
   },
   "outputs": [
    {
     "name": "stdout",
     "output_type": "stream",
     "text": [
      "23\n"
     ]
    }
   ],
   "source": [
    "y = 15\n",
    "\n",
    "print (x + y + 3)"
   ]
  },
  {
   "cell_type": "code",
   "execution_count": 54,
   "metadata": {
    "ExecuteTime": {
     "end_time": "2017-01-22T19:49:57.330883",
     "start_time": "2017-01-22T19:49:57.142758"
    },
    "collapsed": false
   },
   "outputs": [
    {
     "name": "stdout",
     "output_type": "stream",
     "text": [
      "David\n",
      "Torres\n",
      "30\n"
     ]
    }
   ],
   "source": [
    "nombre, apellido, edad = 'David', 'Torres', 30\n",
    "\n",
    "print(nombre)\n",
    "print(apellido)\n",
    "print(edad)"
   ]
  },
  {
   "cell_type": "code",
   "execution_count": 55,
   "metadata": {
    "ExecuteTime": {
     "end_time": "2017-01-22T19:49:57.438956",
     "start_time": "2017-01-22T19:49:57.334887"
    },
    "collapsed": false
   },
   "outputs": [
    {
     "name": "stdout",
     "output_type": "stream",
     "text": [
      "1 15\n"
     ]
    }
   ],
   "source": [
    "x = 1\n",
    "print(x, y)"
   ]
  },
  {
   "cell_type": "code",
   "execution_count": 56,
   "metadata": {
    "ExecuteTime": {
     "end_time": "2017-01-22T19:49:57.542025",
     "start_time": "2017-01-22T19:49:57.442958"
    },
    "collapsed": false
   },
   "outputs": [
    {
     "name": "stdout",
     "output_type": "stream",
     "text": [
      "4 9\n"
     ]
    }
   ],
   "source": [
    "x += 3\n",
    "y -= 6\n",
    "\n",
    "print(x, y)"
   ]
  },
  {
   "cell_type": "markdown",
   "metadata": {},
   "source": [
    "## Estructuras básicas\n",
    "<p></p>\n",
    "<p></p>\n",
    "<p></p>\n",
    "<div style=width:50%;background-color:#77d6ff;padding:5px;border:2px,solid,black;>\n",
    "<h3>Listas</h3>\n",
    "<p>Las listas son...</p>\n",
    "<p>Los principales métodos son:</p>\n",
    "<ul>\n",
    "<li>**sort( )** Ordena la lista\n",
    "<li>**append( )** Añade un nuevo elemento al final.\n",
    "<li>**extend( )** Añade los elementos de otra estructura.\n",
    "<li>**count( )** Cuenta el número de apariciones de un elemanto.\n",
    "<li>**remove( )** Elimina un elemanto indicado de esa lista.\n",
    "<li>**reverse( )** Cambia el orden de los elementos de la lista.\n",
    "</ul>\n",
    "</div> \n",
    "<p></p>"
   ]
  },
  {
   "cell_type": "code",
   "execution_count": 57,
   "metadata": {
    "ExecuteTime": {
     "end_time": "2017-01-22T19:49:57.650097",
     "start_time": "2017-01-22T19:49:57.545027"
    },
    "collapsed": false
   },
   "outputs": [
    {
     "name": "stdout",
     "output_type": "stream",
     "text": [
      "[1, 4, 3, 7, 10, 2]\n"
     ]
    }
   ],
   "source": [
    "lista = [1,4,3,7,10,2]\n",
    "\n",
    "print(lista)"
   ]
  },
  {
   "cell_type": "code",
   "execution_count": 58,
   "metadata": {
    "ExecuteTime": {
     "end_time": "2017-01-22T19:49:57.763174",
     "start_time": "2017-01-22T19:49:57.654100"
    },
    "collapsed": false
   },
   "outputs": [
    {
     "data": {
      "text/plain": [
       "list"
      ]
     },
     "execution_count": 58,
     "metadata": {},
     "output_type": "execute_result"
    }
   ],
   "source": [
    "type(lista)"
   ]
  },
  {
   "cell_type": "code",
   "execution_count": 59,
   "metadata": {
    "ExecuteTime": {
     "end_time": "2017-01-22T19:49:57.872245",
     "start_time": "2017-01-22T19:49:57.767175"
    },
    "collapsed": false
   },
   "outputs": [
    {
     "data": {
      "text/plain": [
       "6"
      ]
     },
     "execution_count": 59,
     "metadata": {},
     "output_type": "execute_result"
    }
   ],
   "source": [
    "len(lista)"
   ]
  },
  {
   "cell_type": "code",
   "execution_count": 60,
   "metadata": {
    "ExecuteTime": {
     "end_time": "2017-01-22T19:49:58.014340",
     "start_time": "2017-01-22T19:49:57.875247"
    },
    "collapsed": false
   },
   "outputs": [
    {
     "name": "stdout",
     "output_type": "stream",
     "text": [
      "[1, 2, 3, 4, 7, 10]\n"
     ]
    }
   ],
   "source": [
    "lista.sort()\n",
    "print(lista)"
   ]
  },
  {
   "cell_type": "code",
   "execution_count": 61,
   "metadata": {
    "ExecuteTime": {
     "end_time": "2017-01-22T19:49:58.144425",
     "start_time": "2017-01-22T19:49:58.017342"
    },
    "collapsed": false
   },
   "outputs": [
    {
     "name": "stdout",
     "output_type": "stream",
     "text": [
      "[1, 2, 3, 4, 7, 10, 99]\n"
     ]
    }
   ],
   "source": [
    "numero = 99\n",
    "lista.append(numero)\n",
    "print(lista)"
   ]
  },
  {
   "cell_type": "code",
   "execution_count": 62,
   "metadata": {
    "ExecuteTime": {
     "end_time": "2017-01-22T19:49:58.228484",
     "start_time": "2017-01-22T19:49:58.147429"
    },
    "collapsed": false
   },
   "outputs": [
    {
     "name": "stdout",
     "output_type": "stream",
     "text": [
      "[1, 2, 3, 4, 7, 10, 99, 14, 15]\n"
     ]
    }
   ],
   "source": [
    "lista2 = [14,15]\n",
    "lista.extend(lista2)\n",
    "print(lista)"
   ]
  },
  {
   "cell_type": "code",
   "execution_count": 63,
   "metadata": {
    "ExecuteTime": {
     "end_time": "2017-01-22T19:49:58.340808",
     "start_time": "2017-01-22T19:49:58.235489"
    },
    "collapsed": false
   },
   "outputs": [
    {
     "data": {
      "text/plain": [
       "1"
      ]
     },
     "execution_count": 63,
     "metadata": {},
     "output_type": "execute_result"
    }
   ],
   "source": [
    "lista.count(7)"
   ]
  },
  {
   "cell_type": "code",
   "execution_count": 64,
   "metadata": {
    "ExecuteTime": {
     "end_time": "2017-01-22T19:49:58.450943",
     "start_time": "2017-01-22T19:49:58.343813"
    },
    "collapsed": false
   },
   "outputs": [
    {
     "name": "stdout",
     "output_type": "stream",
     "text": [
      "[1, 2, 3, 4, 7, 99, 14, 15]\n"
     ]
    }
   ],
   "source": [
    "lista.remove(10)\n",
    "print(lista)"
   ]
  },
  {
   "cell_type": "code",
   "execution_count": 65,
   "metadata": {
    "ExecuteTime": {
     "end_time": "2017-01-22T19:49:58.561374",
     "start_time": "2017-01-22T19:49:58.453944"
    },
    "collapsed": false
   },
   "outputs": [
    {
     "name": "stdout",
     "output_type": "stream",
     "text": [
      "[15, 14, 99, 7, 4, 3, 2, 1]\n"
     ]
    }
   ],
   "source": [
    "lista.reverse()\n",
    "print(lista)"
   ]
  },
  {
   "cell_type": "markdown",
   "metadata": {
    "collapsed": true
   },
   "source": [
    "<div style=width:50%;background-color:#ffe27a;padding:5px;border:2px,solid,black;>\n",
    "<p>**Indexación y desplazamiento dentro de listas**</p>\n",
    "<br>\n",
    "<p>Al igual que vimos en las _strings_, podemos acceder a elementos de una lista en base a su índice, así como seleccionar un rango de elementos.</p>\n",
    "<ul>\n",
    "<li>Para acceder a un elemento individual usamos _nombre-lista[2]_, si queremos acceder al tercer elemento (Python empieza a contar por el 0). _nombre-lista[-1]_ se refiere al último elemento.\n",
    "<li>Para acceder a un rango usamos _nombre-lista[2:5]_, si queremos acceder a los elementos del tres al cinco.\n",
    "</ul>\n",
    "</div> "
   ]
  },
  {
   "cell_type": "code",
   "execution_count": 66,
   "metadata": {
    "ExecuteTime": {
     "end_time": "2017-01-22T19:49:58.687458",
     "start_time": "2017-01-22T19:49:58.565377"
    },
    "collapsed": false
   },
   "outputs": [
    {
     "data": {
      "text/plain": [
       "[15, 14, 99, 7, 4, 3, 2, 1]"
      ]
     },
     "execution_count": 66,
     "metadata": {},
     "output_type": "execute_result"
    }
   ],
   "source": [
    "lista"
   ]
  },
  {
   "cell_type": "code",
   "execution_count": 67,
   "metadata": {
    "ExecuteTime": {
     "end_time": "2017-01-22T19:49:58.774518",
     "start_time": "2017-01-22T19:49:58.690460"
    },
    "collapsed": false
   },
   "outputs": [
    {
     "data": {
      "text/plain": [
       "99"
      ]
     },
     "execution_count": 67,
     "metadata": {},
     "output_type": "execute_result"
    }
   ],
   "source": [
    "lista[2]"
   ]
  },
  {
   "cell_type": "code",
   "execution_count": 68,
   "metadata": {
    "ExecuteTime": {
     "end_time": "2017-01-22T19:49:58.885885",
     "start_time": "2017-01-22T19:49:58.777518"
    },
    "collapsed": false
   },
   "outputs": [
    {
     "data": {
      "text/plain": [
       "1"
      ]
     },
     "execution_count": 68,
     "metadata": {},
     "output_type": "execute_result"
    }
   ],
   "source": [
    "lista[-1]"
   ]
  },
  {
   "cell_type": "code",
   "execution_count": 69,
   "metadata": {
    "ExecuteTime": {
     "end_time": "2017-01-22T19:49:58.997260",
     "start_time": "2017-01-22T19:49:58.888887"
    },
    "collapsed": false
   },
   "outputs": [
    {
     "data": {
      "text/plain": [
       "[99, 7, 4]"
      ]
     },
     "execution_count": 69,
     "metadata": {},
     "output_type": "execute_result"
    }
   ],
   "source": [
    "lista[2:5]"
   ]
  },
  {
   "cell_type": "markdown",
   "metadata": {
    "ExecuteTime": {
     "end_time": "2016-12-23T15:02:07.054394",
     "start_time": "2016-12-23T15:02:07.046386"
    }
   },
   "source": [
    "<p></p>\n",
    "<div style=width:50%;background-color:#77d6ff;padding:5px;border:2px,solid,black;>\n",
    "<h3>Tuplas</h3>\n",
    "<p>Las tuplas son...</p>\n",
    "<p>Los principales métodos son:</p>\n",
    "<ul>\n",
    "<li>\n",
    "</ul>\n",
    "</div> \n",
    "<p></p>"
   ]
  },
  {
   "cell_type": "code",
   "execution_count": 70,
   "metadata": {
    "ExecuteTime": {
     "end_time": "2017-01-22T19:49:59.098328",
     "start_time": "2017-01-22T19:49:59.000262"
    },
    "collapsed": false
   },
   "outputs": [
    {
     "name": "stdout",
     "output_type": "stream",
     "text": [
      "(3, 4, 1, 2)\n"
     ]
    }
   ],
   "source": [
    "tupla = (3,4,1,2)\n",
    "print(tupla)"
   ]
  },
  {
   "cell_type": "code",
   "execution_count": 71,
   "metadata": {
    "ExecuteTime": {
     "end_time": "2017-01-22T19:49:59.187387",
     "start_time": "2017-01-22T19:49:59.101330"
    },
    "collapsed": false
   },
   "outputs": [
    {
     "data": {
      "text/plain": [
       "tuple"
      ]
     },
     "execution_count": 71,
     "metadata": {},
     "output_type": "execute_result"
    }
   ],
   "source": [
    "type(tupla)"
   ]
  },
  {
   "cell_type": "code",
   "execution_count": 72,
   "metadata": {
    "ExecuteTime": {
     "end_time": "2017-01-22T19:49:59.290456",
     "start_time": "2017-01-22T19:49:59.189388"
    },
    "collapsed": false
   },
   "outputs": [
    {
     "data": {
      "text/plain": [
       "4"
      ]
     },
     "execution_count": 72,
     "metadata": {},
     "output_type": "execute_result"
    }
   ],
   "source": [
    "len(tupla)"
   ]
  },
  {
   "cell_type": "code",
   "execution_count": null,
   "metadata": {
    "collapsed": true
   },
   "outputs": [],
   "source": []
  },
  {
   "cell_type": "code",
   "execution_count": null,
   "metadata": {
    "collapsed": true
   },
   "outputs": [],
   "source": []
  },
  {
   "cell_type": "markdown",
   "metadata": {},
   "source": [
    "<p></p>\n",
    "<div style=width:50%;background-color:#77d6ff;padding:5px;border:2px,solid,black;>\n",
    "<h3>Diccionarios</h3>\n",
    "<p>Los diccionarios son...</p>\n",
    "<p>Los principales métodos son:</p>\n",
    "<ul>\n",
    "<li>\n",
    "<li>\n",
    "<li>\n",
    "</ul>\n",
    "</div> \n",
    "<p></p>"
   ]
  },
  {
   "cell_type": "code",
   "execution_count": 73,
   "metadata": {
    "ExecuteTime": {
     "end_time": "2017-01-22T19:49:59.406534",
     "start_time": "2017-01-22T19:49:59.293457"
    },
    "collapsed": false
   },
   "outputs": [
    {
     "name": "stdout",
     "output_type": "stream",
     "text": [
      "{'gato': 4, 'david': 27, 'sara': 24}\n"
     ]
    }
   ],
   "source": [
    "dicc = {'david':27,\n",
    "        'sara':24,\n",
    "        'gato':4\n",
    "        }\n",
    "print(dicc)"
   ]
  },
  {
   "cell_type": "code",
   "execution_count": 74,
   "metadata": {
    "ExecuteTime": {
     "end_time": "2017-01-22T19:49:59.512604",
     "start_time": "2017-01-22T19:49:59.410539"
    },
    "collapsed": false
   },
   "outputs": [
    {
     "data": {
      "text/plain": [
       "dict"
      ]
     },
     "execution_count": 74,
     "metadata": {},
     "output_type": "execute_result"
    }
   ],
   "source": [
    "type(dicc)"
   ]
  },
  {
   "cell_type": "code",
   "execution_count": 75,
   "metadata": {
    "ExecuteTime": {
     "end_time": "2017-01-22T19:49:59.635686",
     "start_time": "2017-01-22T19:49:59.518609"
    },
    "collapsed": false
   },
   "outputs": [
    {
     "data": {
      "text/plain": [
       "3"
      ]
     },
     "execution_count": 75,
     "metadata": {},
     "output_type": "execute_result"
    }
   ],
   "source": [
    "len(dicc)"
   ]
  },
  {
   "cell_type": "code",
   "execution_count": 76,
   "metadata": {
    "ExecuteTime": {
     "end_time": "2017-01-22T19:49:59.751770",
     "start_time": "2017-01-22T19:49:59.637688"
    },
    "collapsed": false
   },
   "outputs": [
    {
     "name": "stdout",
     "output_type": "stream",
     "text": [
      "dict_keys(['gato', 'david', 'sara'])\n"
     ]
    }
   ],
   "source": [
    "print(dicc.keys())"
   ]
  },
  {
   "cell_type": "code",
   "execution_count": 77,
   "metadata": {
    "ExecuteTime": {
     "end_time": "2017-01-22T19:49:59.855833",
     "start_time": "2017-01-22T19:49:59.754766"
    },
    "collapsed": false
   },
   "outputs": [
    {
     "name": "stdout",
     "output_type": "stream",
     "text": [
      "dict_values([4, 27, 24])\n"
     ]
    }
   ],
   "source": [
    "print(dicc.values())"
   ]
  },
  {
   "cell_type": "code",
   "execution_count": 78,
   "metadata": {
    "ExecuteTime": {
     "end_time": "2017-01-22T19:50:00.017942",
     "start_time": "2017-01-22T19:49:59.859836"
    },
    "collapsed": false
   },
   "outputs": [
    {
     "name": "stdout",
     "output_type": "stream",
     "text": [
      "4\n"
     ]
    }
   ],
   "source": [
    "print(dicc['gato'])"
   ]
  },
  {
   "cell_type": "markdown",
   "metadata": {
    "ExecuteTime": {
     "end_time": "2016-12-23T16:09:49.577291",
     "start_time": "2016-12-23T16:09:49.570288"
    },
    "collapsed": false
   },
   "source": [
    "# Unidad 2. Condicionales y bucles"
   ]
  },
  {
   "cell_type": "markdown",
   "metadata": {},
   "source": [
    "## Condicionales: *if*, *elif*, *else*\n",
    "\n",
    "<img src=\"img/cond.png\">"
   ]
  },
  {
   "cell_type": "code",
   "execution_count": 79,
   "metadata": {
    "ExecuteTime": {
     "end_time": "2017-01-22T19:50:00.116606",
     "start_time": "2017-01-22T19:50:00.020943"
    },
    "collapsed": false
   },
   "outputs": [
    {
     "name": "stdout",
     "output_type": "stream",
     "text": [
      "¡Funciona!\n"
     ]
    }
   ],
   "source": [
    "x = 5\n",
    "if x > 3:\n",
    "    print('¡Funciona!')"
   ]
  },
  {
   "cell_type": "code",
   "execution_count": 80,
   "metadata": {
    "ExecuteTime": {
     "end_time": "2017-01-22T19:50:00.212670",
     "start_time": "2017-01-22T19:50:00.119608"
    },
    "collapsed": false
   },
   "outputs": [
    {
     "name": "stdout",
     "output_type": "stream",
     "text": [
      "No funciona...\n"
     ]
    }
   ],
   "source": [
    "x = 1\n",
    "\n",
    "if x > 3:\n",
    "    print('¡Funciona!')\n",
    "else:\n",
    "    print('No funciona...')"
   ]
  },
  {
   "cell_type": "code",
   "execution_count": 81,
   "metadata": {
    "ExecuteTime": {
     "end_time": "2017-01-22T19:50:00.331752",
     "start_time": "2017-01-22T19:50:00.216672"
    },
    "collapsed": false
   },
   "outputs": [
    {
     "name": "stdout",
     "output_type": "stream",
     "text": [
      "x es igual a 1\n"
     ]
    }
   ],
   "source": [
    "x = 1\n",
    "\n",
    "if x > 3:\n",
    "    print('¡Funciona!')\n",
    "elif x == 1:\n",
    "    print('x es igual a 1')\n",
    "else:\n",
    "    print('No funciona...')"
   ]
  },
  {
   "cell_type": "code",
   "execution_count": null,
   "metadata": {
    "collapsed": true
   },
   "outputs": [],
   "source": []
  },
  {
   "cell_type": "markdown",
   "metadata": {},
   "source": [
    "## Bucles\n",
    "\n",
    "<img src=\"img/loop.png\">"
   ]
  },
  {
   "cell_type": "markdown",
   "metadata": {},
   "source": [
    "### Bucle *while*\n",
    "\n",
    "<div style=width:50%;background-color:#77d6ff;padding:5px;border:2px,solid,black;>\n",
    "<p>Repite una declaración o grupo de declaraciones mientras una condición dada sea **True**. </p>\n",
    "<p>Prueba la condición antes de ejecutar el cuerpo de bucle.</p>\n",
    "</div> \n",
    "<p></p>"
   ]
  },
  {
   "cell_type": "code",
   "execution_count": 82,
   "metadata": {
    "ExecuteTime": {
     "end_time": "2017-01-22T19:50:00.463843",
     "start_time": "2017-01-22T19:50:00.335756"
    },
    "collapsed": false
   },
   "outputs": [
    {
     "name": "stdout",
     "output_type": "stream",
     "text": [
      "1\n",
      "2\n",
      "3\n",
      "4\n",
      "5\n"
     ]
    }
   ],
   "source": [
    "x = 1\n",
    "\n",
    "while x <= 5:\n",
    "    print(x)\n",
    "    x += 1"
   ]
  },
  {
   "cell_type": "markdown",
   "metadata": {
    "collapsed": true
   },
   "source": [
    "<div style=width:50%;background-color:#ffe27a;padding:5px;border:2px,solid,black;>\n",
    "<p>**do... while**</p>\n",
    "<p>Esta...</p>\n",
    "</div> "
   ]
  },
  {
   "cell_type": "markdown",
   "metadata": {},
   "source": [
    "### Bucle *for* \n",
    "\n",
    "<div style=width:50%;background-color:#77d6ff;padding:5px;border:2px,solid,black;>\n",
    "<p>Ejecuta una secuencia de sentencias varias veces y abrevia el código que administra la variable de bucle.</p>\n",
    "</div> \n",
    "<p></p>"
   ]
  },
  {
   "cell_type": "code",
   "execution_count": 83,
   "metadata": {
    "ExecuteTime": {
     "end_time": "2017-01-22T19:50:00.605933",
     "start_time": "2017-01-22T19:50:00.465841"
    },
    "collapsed": false
   },
   "outputs": [
    {
     "name": "stdout",
     "output_type": "stream",
     "text": [
      "2\n",
      "18\n",
      "5\n",
      "11\n",
      "15\n",
      "4\n"
     ]
    }
   ],
   "source": [
    "numeros = [2, 18, 5, 11, 15, 4]\n",
    "\n",
    "for numero in numeros:\n",
    "    print(numero)"
   ]
  },
  {
   "cell_type": "code",
   "execution_count": 84,
   "metadata": {
    "ExecuteTime": {
     "end_time": "2017-01-22T19:50:00.717009",
     "start_time": "2017-01-22T19:50:00.609935"
    },
    "collapsed": false
   },
   "outputs": [
    {
     "name": "stdout",
     "output_type": "stream",
     "text": [
      "18\n",
      "11\n",
      "15\n"
     ]
    }
   ],
   "source": [
    "for numero in numeros:\n",
    "    if numero > 10:\n",
    "        print(numero)"
   ]
  },
  {
   "cell_type": "markdown",
   "metadata": {
    "collapsed": true
   },
   "source": [
    "### _continue, pass, break_"
   ]
  },
  {
   "cell_type": "markdown",
   "metadata": {},
   "source": [
    "<div style=width:50%;background-color:#77d6ff;padding:5px;border:2px,solid,black;>\n",
    "<p>_**continue**_</p>\n",
    "<p>Esta palabra clave dentro de una función rechaza todas las sentencias restantes en la iteración actual del bucle y vuelve de nuevo a la parte superior del bucle.</p>\n",
    "<p>La sentencia _continue_ puede utilizarse tanto en el bucle _while_ como en el _for_.</p>\n",
    "</div> \n",
    "<p></p>"
   ]
  },
  {
   "cell_type": "code",
   "execution_count": 85,
   "metadata": {
    "ExecuteTime": {
     "end_time": "2017-01-22T19:50:00.830156",
     "start_time": "2017-01-22T19:50:00.721011"
    },
    "collapsed": false
   },
   "outputs": [
    {
     "name": "stdout",
     "output_type": "stream",
     "text": [
      "D\n",
      "a\n",
      "v\n",
      "d\n"
     ]
    }
   ],
   "source": [
    "for letra in 'David':\n",
    "    if letra == 'i':\n",
    "        continue\n",
    "    print(letra)"
   ]
  },
  {
   "cell_type": "code",
   "execution_count": 86,
   "metadata": {
    "ExecuteTime": {
     "end_time": "2017-01-22T19:50:00.940205",
     "start_time": "2017-01-22T19:50:00.833158"
    },
    "collapsed": false
   },
   "outputs": [
    {
     "name": "stdout",
     "output_type": "stream",
     "text": [
      "4\n",
      "3\n",
      "1\n",
      "0\n"
     ]
    }
   ],
   "source": [
    "var = 5\n",
    "while var > 0:              \n",
    "    var -= 1\n",
    "    if var == 2:\n",
    "        continue\n",
    "    print(var)"
   ]
  },
  {
   "cell_type": "markdown",
   "metadata": {},
   "source": [
    "<div style=width:50%;background-color:#77d6ff;padding:5px;border:2px,solid,black;>\n",
    "<p>_**break**_</p>\n",
    "<p>La palabra clave _break_ ...</p>\n",
    "</div> \n",
    "<p></p>"
   ]
  },
  {
   "cell_type": "code",
   "execution_count": 87,
   "metadata": {
    "ExecuteTime": {
     "end_time": "2017-01-22T19:50:01.061275",
     "start_time": "2017-01-22T19:50:00.943206"
    },
    "collapsed": false
   },
   "outputs": [
    {
     "name": "stdout",
     "output_type": "stream",
     "text": [
      "4\n",
      "3\n"
     ]
    }
   ],
   "source": [
    "var = 5\n",
    "while var > 0:              \n",
    "    var -= 1\n",
    "    if var == 2:\n",
    "        break\n",
    "    print(var)"
   ]
  },
  {
   "cell_type": "markdown",
   "metadata": {},
   "source": [
    "<div style=width:50%;background-color:#77d6ff;padding:5px;border:2px,solid,black;>\n",
    "<p>_**pass**_</p>\n",
    "<p>La palabra clave _pass_ es una operación nula, no ocurre nada cuando se ejecuta. Es útil en lugares donde se escribirá un código que aún no ha sido escrito.</p>\n",
    "</div> \n",
    "<p></p>"
   ]
  },
  {
   "cell_type": "code",
   "execution_count": 88,
   "metadata": {
    "ExecuteTime": {
     "end_time": "2017-01-22T19:50:01.174485",
     "start_time": "2017-01-22T19:50:01.064280"
    },
    "collapsed": false
   },
   "outputs": [
    {
     "name": "stdout",
     "output_type": "stream",
     "text": [
      "4\n",
      "3\n",
      "Aquí irá código\n",
      "2\n",
      "1\n",
      "0\n"
     ]
    }
   ],
   "source": [
    "var = 5\n",
    "while var > 0:              \n",
    "    var -= 1\n",
    "    if var == 2:\n",
    "        pass\n",
    "        print('Aquí irá código')\n",
    "    print(var)"
   ]
  },
  {
   "cell_type": "code",
   "execution_count": null,
   "metadata": {
    "collapsed": true
   },
   "outputs": [],
   "source": []
  },
  {
   "cell_type": "markdown",
   "metadata": {},
   "source": [
    "## Generadores I. *range*\n",
    "\n",
    "<div style=width:50%;background-color:#77d6ff;padding:5px;border:2px,solid,black;>\n",
    "<p>La función _range_ nos permite generar una estructura de datos numéricos, algo muy útil, por ejemplo, para trabajar con bucles.</p>\n",
    "<p>Puede tener uno, dos o tres argumentos:</p>\n",
    "<ul>  \n",
    "<li>Si tiene un argumento, se generarán números desde 0 hasta el número anterior al que elijamos (si elegimos 5, números desde el 0 al 4). Ej: _range(5)_ [0,1,2,3,4]\n",
    "<li>Si tiene dos argumentos, el primer número es el origen y el segundo número, menos uno, es el final. Ej: _range(2,5)_ [2,3,4]\n",
    "<li>Si tiene dos argumentos, el primer número es el origen, el segundo número, menos uno, es el final, y el tercero es el espacio entre ellos. Ej: _range(1,6,2)_ [1,3,5]\n",
    "</ul>\n",
    "</div> \n",
    "<p></p>"
   ]
  },
  {
   "cell_type": "code",
   "execution_count": 89,
   "metadata": {
    "ExecuteTime": {
     "end_time": "2017-01-22T19:50:01.273674",
     "start_time": "2017-01-22T19:50:01.176486"
    },
    "collapsed": false
   },
   "outputs": [
    {
     "name": "stdout",
     "output_type": "stream",
     "text": [
      "range(0, 5)\n",
      "0 0\n",
      "1 1\n",
      "2 4\n",
      "3 9\n",
      "4 16\n"
     ]
    }
   ],
   "source": [
    "print(range(5))\n",
    "\n",
    "for x in range(5):\n",
    "    print(x, x**2)"
   ]
  },
  {
   "cell_type": "code",
   "execution_count": 90,
   "metadata": {
    "ExecuteTime": {
     "end_time": "2017-01-22T19:50:01.414768",
     "start_time": "2017-01-22T19:50:01.276676"
    },
    "collapsed": false
   },
   "outputs": [
    {
     "name": "stdout",
     "output_type": "stream",
     "text": [
      "range(3, 6)\n",
      "3 9\n",
      "4 16\n",
      "5 25\n"
     ]
    }
   ],
   "source": [
    "print(range(3,6))\n",
    "\n",
    "for x in range(3,6):\n",
    "    print(x, x**2)"
   ]
  },
  {
   "cell_type": "code",
   "execution_count": 91,
   "metadata": {
    "ExecuteTime": {
     "end_time": "2017-01-22T19:50:01.516836",
     "start_time": "2017-01-22T19:50:01.418770"
    },
    "collapsed": false
   },
   "outputs": [
    {
     "name": "stdout",
     "output_type": "stream",
     "text": [
      "range(1, 6, 2)\n",
      "1 1\n",
      "3 9\n",
      "5 25\n"
     ]
    }
   ],
   "source": [
    "print(range(1,6,2))\n",
    "\n",
    "for x in range(1,6,2):\n",
    "    print(x, x**2)"
   ]
  },
  {
   "cell_type": "markdown",
   "metadata": {},
   "source": [
    "# Unidad 3. Funciones"
   ]
  },
  {
   "cell_type": "code",
   "execution_count": 92,
   "metadata": {
    "ExecuteTime": {
     "end_time": "2017-01-22T19:50:01.630914",
     "start_time": "2017-01-22T19:50:01.519837"
    },
    "collapsed": true
   },
   "outputs": [],
   "source": [
    "def sumar_cuadrados(n1, n2):\n",
    "    resultado = n1**2 + n2**2\n",
    "    return resultado"
   ]
  },
  {
   "cell_type": "code",
   "execution_count": 93,
   "metadata": {
    "ExecuteTime": {
     "end_time": "2017-01-22T19:50:01.751829",
     "start_time": "2017-01-22T19:50:01.633914"
    },
    "collapsed": false
   },
   "outputs": [
    {
     "data": {
      "text/plain": [
       "106"
      ]
     },
     "execution_count": 93,
     "metadata": {},
     "output_type": "execute_result"
    }
   ],
   "source": [
    "sumar_cuadrados(5,9)"
   ]
  },
  {
   "cell_type": "code",
   "execution_count": 94,
   "metadata": {
    "ExecuteTime": {
     "end_time": "2017-01-22T19:50:01.833888",
     "start_time": "2017-01-22T19:50:01.754833"
    },
    "collapsed": true
   },
   "outputs": [],
   "source": [
    "def fibo(n):\n",
    "    if n == 0:\n",
    "        return 0\n",
    "    else:\n",
    "        x, y = 1, 1\n",
    "        for i in range(n-1):\n",
    "            x, y = y, x + y\n",
    "        return x"
   ]
  },
  {
   "cell_type": "code",
   "execution_count": 95,
   "metadata": {
    "ExecuteTime": {
     "end_time": "2017-01-22T19:50:01.928949",
     "start_time": "2017-01-22T19:50:01.837887"
    },
    "collapsed": false
   },
   "outputs": [
    {
     "name": "stdout",
     "output_type": "stream",
     "text": [
      "610\n"
     ]
    }
   ],
   "source": [
    "print(fibo(15))"
   ]
  },
  {
   "cell_type": "code",
   "execution_count": 96,
   "metadata": {
    "ExecuteTime": {
     "end_time": "2017-01-22T19:50:02.039331",
     "start_time": "2017-01-22T19:50:01.931950"
    },
    "collapsed": false
   },
   "outputs": [
    {
     "name": "stdout",
     "output_type": "stream",
     "text": [
      "0\n",
      "1\n",
      "1\n",
      "2\n",
      "3\n",
      "5\n",
      "8\n",
      "13\n",
      "21\n",
      "34\n"
     ]
    }
   ],
   "source": [
    "for num in range(10):\n",
    "    print(fibo(num))"
   ]
  },
  {
   "cell_type": "markdown",
   "metadata": {
    "ExecuteTime": {
     "end_time": "2016-12-23T20:41:29.002543",
     "start_time": "2016-12-23T20:41:28.993537"
    }
   },
   "source": [
    "<p></p>\n",
    "<div style=width:30%;background-color:#ffe27a;padding:5px;border:2px,solid,black;>\n",
    "<p>**Funciones con generadores**</p>\n",
    "<p>.</p>\n",
    "</div> "
   ]
  },
  {
   "cell_type": "code",
   "execution_count": 97,
   "metadata": {
    "ExecuteTime": {
     "end_time": "2017-01-22T19:50:02.165416",
     "start_time": "2017-01-22T19:50:02.043337"
    },
    "collapsed": false
   },
   "outputs": [
    {
     "name": "stdout",
     "output_type": "stream",
     "text": [
      "[0, 1, 1, 2, 3, 5, 8, 13, 21, 34]\n"
     ]
    }
   ],
   "source": [
    "print([fibo(num) for num in range(10)])"
   ]
  },
  {
   "cell_type": "code",
   "execution_count": 98,
   "metadata": {
    "ExecuteTime": {
     "end_time": "2017-01-22T19:50:02.263482",
     "start_time": "2017-01-22T19:50:02.168417"
    },
    "collapsed": false
   },
   "outputs": [
    {
     "name": "stdout",
     "output_type": "stream",
     "text": [
      "[1, 5, 13, 25, 41]\n"
     ]
    }
   ],
   "source": [
    "print([sumar_cuadrados(numero, numero+1) for numero in range(5)])"
   ]
  },
  {
   "cell_type": "markdown",
   "metadata": {
    "ExecuteTime": {
     "end_time": "2017-01-12T21:35:00.543577",
     "start_time": "2017-01-12T21:35:00.522563"
    }
   },
   "source": [
    "<div style=width:50%;background-color:#77d6ff;padding:5px;border:2px,solid,black;>\n",
    "<p>**Ejemplo**</p>\n",
    "<p>Esta función crea un salto de línea de _x_ líneas, siendo 3 líneas por defecto.</p>\n",
    "</div>"
   ]
  },
  {
   "cell_type": "code",
   "execution_count": 99,
   "metadata": {
    "ExecuteTime": {
     "end_time": "2017-01-22T19:50:02.390599",
     "start_time": "2017-01-22T19:50:02.266484"
    },
    "collapsed": true
   },
   "outputs": [],
   "source": [
    "def espacio(lineas=3):\n",
    "    x = 0\n",
    "    while x < lineas:\n",
    "        print('')\n",
    "        x += 1"
   ]
  },
  {
   "cell_type": "code",
   "execution_count": 100,
   "metadata": {
    "ExecuteTime": {
     "end_time": "2017-01-22T19:50:02.484662",
     "start_time": "2017-01-22T19:50:02.393604"
    },
    "collapsed": false,
    "scrolled": true
   },
   "outputs": [
    {
     "name": "stdout",
     "output_type": "stream",
     "text": [
      "Hola\n",
      "\n",
      "¡Adiós!\n"
     ]
    }
   ],
   "source": [
    "print('Hola')\n",
    "espacio(1)\n",
    "print('¡Adiós!')"
   ]
  },
  {
   "cell_type": "code",
   "execution_count": 101,
   "metadata": {
    "ExecuteTime": {
     "end_time": "2017-01-22T19:50:02.587731",
     "start_time": "2017-01-22T19:50:02.487664"
    },
    "collapsed": false
   },
   "outputs": [
    {
     "name": "stdout",
     "output_type": "stream",
     "text": [
      "\n",
      "\n",
      "\n",
      ":)\n"
     ]
    }
   ],
   "source": [
    "espacio()\n",
    "print(':)')"
   ]
  },
  {
   "cell_type": "markdown",
   "metadata": {
    "collapsed": true
   },
   "source": [
    "## Generadores II. *yield*"
   ]
  },
  {
   "cell_type": "code",
   "execution_count": 102,
   "metadata": {
    "ExecuteTime": {
     "end_time": "2017-01-22T19:50:02.697805",
     "start_time": "2017-01-22T19:50:02.590733"
    },
    "collapsed": true
   },
   "outputs": [],
   "source": [
    "def genera_cuadrados(m=5):\n",
    "    n = 0\n",
    "    while n < m:\n",
    "        yield n**2\n",
    "        n += 1"
   ]
  },
  {
   "cell_type": "code",
   "execution_count": 103,
   "metadata": {
    "ExecuteTime": {
     "end_time": "2017-01-22T19:50:02.787864",
     "start_time": "2017-01-22T19:50:02.700805"
    },
    "collapsed": false
   },
   "outputs": [
    {
     "data": {
      "text/plain": [
       "<generator object genera_cuadrados at 0x094FBF30>"
      ]
     },
     "execution_count": 103,
     "metadata": {},
     "output_type": "execute_result"
    }
   ],
   "source": [
    "genera_cuadrados()"
   ]
  },
  {
   "cell_type": "code",
   "execution_count": 104,
   "metadata": {
    "ExecuteTime": {
     "end_time": "2017-01-22T19:50:02.872923",
     "start_time": "2017-01-22T19:50:02.789866"
    },
    "collapsed": false
   },
   "outputs": [
    {
     "name": "stdout",
     "output_type": "stream",
     "text": [
      "0\n",
      "1\n",
      "4\n",
      "9\n",
      "16\n",
      "25\n",
      "36\n",
      "49\n",
      "64\n",
      "81\n"
     ]
    }
   ],
   "source": [
    "for num in genera_cuadrados(10):\n",
    "    print(num)"
   ]
  },
  {
   "cell_type": "code",
   "execution_count": 105,
   "metadata": {
    "ExecuteTime": {
     "end_time": "2017-01-22T19:50:02.999006",
     "start_time": "2017-01-22T19:50:02.876924"
    },
    "collapsed": false
   },
   "outputs": [
    {
     "data": {
      "text/plain": [
       "0"
      ]
     },
     "execution_count": 105,
     "metadata": {},
     "output_type": "execute_result"
    }
   ],
   "source": [
    "gc = genera_cuadrados()\n",
    "\n",
    "next(gc)"
   ]
  },
  {
   "cell_type": "code",
   "execution_count": 106,
   "metadata": {
    "ExecuteTime": {
     "end_time": "2017-01-22T19:50:03.086064",
     "start_time": "2017-01-22T19:50:03.001009"
    },
    "collapsed": false
   },
   "outputs": [
    {
     "data": {
      "text/plain": [
       "1"
      ]
     },
     "execution_count": 106,
     "metadata": {},
     "output_type": "execute_result"
    }
   ],
   "source": [
    "next(gc)"
   ]
  },
  {
   "cell_type": "code",
   "execution_count": 107,
   "metadata": {
    "ExecuteTime": {
     "end_time": "2017-01-22T19:50:03.185129",
     "start_time": "2017-01-22T19:50:03.090067"
    },
    "collapsed": false
   },
   "outputs": [
    {
     "data": {
      "text/plain": [
       "4"
      ]
     },
     "execution_count": 107,
     "metadata": {},
     "output_type": "execute_result"
    }
   ],
   "source": [
    "next(gc)"
   ]
  },
  {
   "cell_type": "markdown",
   "metadata": {},
   "source": [
    "# Unidad 4. Módulos, librerías, extensiones\n",
    "\n",
    "## Módulos y librerías"
   ]
  },
  {
   "cell_type": "code",
   "execution_count": 108,
   "metadata": {
    "ExecuteTime": {
     "end_time": "2017-01-22T19:50:03.294235",
     "start_time": "2017-01-22T19:50:03.188131"
    },
    "collapsed": false
   },
   "outputs": [
    {
     "name": "stdout",
     "output_type": "stream",
     "text": [
      "No existe el módulo\n"
     ]
    }
   ],
   "source": [
    "try:\n",
    "    fecha = datetime.datetime.now()\n",
    "    print(fecha)\n",
    "except NameError:\n",
    "    print('No existe el módulo')\n",
    "else:\n",
    "    print('Otro error')"
   ]
  },
  {
   "cell_type": "code",
   "execution_count": 109,
   "metadata": {
    "ExecuteTime": {
     "end_time": "2017-01-22T19:50:03.407328",
     "start_time": "2017-01-22T19:50:03.297235"
    },
    "collapsed": false
   },
   "outputs": [
    {
     "name": "stdout",
     "output_type": "stream",
     "text": [
      "2017-01-22 19:50:03.404327\n"
     ]
    }
   ],
   "source": [
    "import datetime\n",
    "fecha = datetime.datetime.now()\n",
    "print(fecha)"
   ]
  },
  {
   "cell_type": "code",
   "execution_count": 110,
   "metadata": {
    "ExecuteTime": {
     "end_time": "2017-01-22T19:50:03.542103",
     "start_time": "2017-01-22T19:50:03.410016"
    },
    "collapsed": false
   },
   "outputs": [
    {
     "name": "stdout",
     "output_type": "stream",
     "text": [
      "2017-01-22 19:50:03.538101\n"
     ]
    }
   ],
   "source": [
    "import datetime as dt\n",
    "fecha = dt.datetime.now()\n",
    "print(fecha)"
   ]
  },
  {
   "cell_type": "code",
   "execution_count": 111,
   "metadata": {
    "ExecuteTime": {
     "end_time": "2017-01-22T19:50:03.867322",
     "start_time": "2017-01-22T19:50:03.545107"
    },
    "collapsed": false
   },
   "outputs": [
    {
     "name": "stdout",
     "output_type": "stream",
     "text": [
      "Pi: 3.141592653589793\n",
      "\n",
      "\n",
      "\n",
      "[[ 1.  1.  1.]\n",
      " [ 1.  1.  1.]\n",
      " [ 1.  1.  1.]]\n"
     ]
    }
   ],
   "source": [
    "import numpy as np\n",
    "\n",
    "print('Pi:', np.pi)\n",
    "\n",
    "espacio()\n",
    "    \n",
    "print(np.ones([3,3]))"
   ]
  },
  {
   "cell_type": "code",
   "execution_count": 112,
   "metadata": {
    "ExecuteTime": {
     "end_time": "2017-01-22T19:50:04.072990",
     "start_time": "2017-01-22T19:50:03.870326"
    },
    "collapsed": false
   },
   "outputs": [
    {
     "data": {
      "text/plain": [
       "'1.11.1'"
      ]
     },
     "execution_count": 112,
     "metadata": {},
     "output_type": "execute_result"
    }
   ],
   "source": [
    "np.version.version"
   ]
  },
  {
   "cell_type": "code",
   "execution_count": 120,
   "metadata": {
    "ExecuteTime": {
     "end_time": "2017-01-22T19:52:05.746023",
     "start_time": "2017-01-22T19:52:05.716000"
    },
    "collapsed": false
   },
   "outputs": [
    {
     "data": {
      "text/html": [
       "<div>\n",
       "<table border=\"1\" class=\"dataframe\">\n",
       "  <thead>\n",
       "    <tr style=\"text-align: right;\">\n",
       "      <th></th>\n",
       "      <th>bebida</th>\n",
       "      <th>precio/unidad</th>\n",
       "      <th>unidades</th>\n",
       "    </tr>\n",
       "  </thead>\n",
       "  <tbody>\n",
       "    <tr>\n",
       "      <th>0</th>\n",
       "      <td>Refresco</td>\n",
       "      <td>1.99</td>\n",
       "      <td>16</td>\n",
       "    </tr>\n",
       "    <tr>\n",
       "      <th>1</th>\n",
       "      <td>Zumo</td>\n",
       "      <td>2.49</td>\n",
       "      <td>9</td>\n",
       "    </tr>\n",
       "    <tr>\n",
       "      <th>2</th>\n",
       "      <td>Agua</td>\n",
       "      <td>0.95</td>\n",
       "      <td>3</td>\n",
       "    </tr>\n",
       "  </tbody>\n",
       "</table>\n",
       "</div>"
      ],
      "text/plain": [
       "     bebida  precio/unidad  unidades\n",
       "0  Refresco           1.99        16\n",
       "1      Zumo           2.49         9\n",
       "2      Agua           0.95         3"
      ]
     },
     "execution_count": 120,
     "metadata": {},
     "output_type": "execute_result"
    }
   ],
   "source": [
    "import pandas as pd\n",
    "import matplotlib.pyplot as plt\n",
    "plt.style.use('seaborn-whitegrid')\n",
    "\n",
    "bebidas = {'bebida' : pd.Series(['Refresco', 'Zumo', 'Agua']),\n",
    "            'precio/unidad' : pd.Series([1.99, 2.49, 0.95]),\n",
    "             'unidades' : pd.Series([16, 9, 3])}\n",
    "    \n",
    "\n",
    "df = pd.DataFrame(bebidas)\n",
    "\n",
    "df"
   ]
  },
  {
   "cell_type": "code",
   "execution_count": 133,
   "metadata": {
    "ExecuteTime": {
     "end_time": "2017-01-22T19:55:43.915086",
     "start_time": "2017-01-22T19:55:43.601013"
    },
    "collapsed": false
   },
   "outputs": [
    {
     "data": {
      "image/png": "[encoded data removed]",
      "text/plain": [
       "<matplotlib.figure.Figure at 0x3de44f0>"
      ]
     },
     "metadata": {},
     "output_type": "display_data"
    }
   ],
   "source": [
    "y_pos = np.arange(len(df['bebida']))\n",
    "plt.barh(y_pos, df['unidades'], color= 'r', alpha=0.5)\n",
    "plt.yticks(y_pos+0.4, df['bebida'])\n",
    "plt.xlabel('Unidades')\n",
    "plt.title('Unidades de cada producto')\n",
    "plt.show()"
   ]
  },
  {
   "cell_type": "code",
   "execution_count": 136,
   "metadata": {
    "ExecuteTime": {
     "end_time": "2017-01-22T19:57:21.226656",
     "start_time": "2017-01-22T19:57:20.922146"
    },
    "collapsed": false
   },
   "outputs": [
    {
     "data": {
      "image/png": "[encoded data removed]",
      "text/plain": [
       "<matplotlib.figure.Figure at 0x95646d0>"
      ]
     },
     "metadata": {},
     "output_type": "display_data"
    }
   ],
   "source": [
    "y_pos = np.arange(len(df['bebida']))\n",
    "plt.barh(y_pos, df['precio/unidad'], color= 'g', alpha=0.5)\n",
    "plt.yticks(y_pos+0.4, df['bebida'])\n",
    "plt.xlabel('Precio/unidad')\n",
    "plt.title('Precio de cada producto')\n",
    "plt.show()"
   ]
  },
  {
   "cell_type": "markdown",
   "metadata": {
    "collapsed": true
   },
   "source": [
    "## Extensiones"
   ]
  },
  {
   "cell_type": "code",
   "execution_count": 115,
   "metadata": {
    "ExecuteTime": {
     "end_time": "2017-01-22T19:50:05.713483",
     "start_time": "2017-01-22T19:50:05.493337"
    },
    "collapsed": true
   },
   "outputs": [],
   "source": [
    "%load_ext tutormagic"
   ]
  },
  {
   "cell_type": "code",
   "execution_count": 116,
   "metadata": {
    "ExecuteTime": {
     "end_time": "2017-01-22T19:50:05.723491",
     "start_time": "2017-01-22T19:50:05.716484"
    },
    "collapsed": false
   },
   "outputs": [
    {
     "data": {
      "text/html": [
       "\n",
       "        <iframe\n",
       "            width=\"100%\"\n",
       "            height=\"350\"\n",
       "            src=\"http://pythontutor.com/iframe-embed.html#code=a%20%3D%201%0Ab%20%3D%202%0A%0Adef%20add%28x%2C%20y%29%3A%0A%20%20%20%20return%20x%20%2B%20y%0A%0Ac%20%3D%20add%28a%2C%20b%29%0A%0Aprint%28c%29&origin=opt-frontend.js&cumulative=false&heapPrimitives=false&textReferences=false&py=3&rawInputLstJSON=%5B%5D&curInstr=0&codeDivWidth=50%25&codeDivHeight=100%25\"\n",
       "            frameborder=\"0\"\n",
       "            allowfullscreen\n",
       "        ></iframe>\n",
       "        "
      ],
      "text/plain": [
       "<IPython.lib.display.IFrame at 0x1568e90>"
      ]
     },
     "metadata": {},
     "output_type": "display_data"
    }
   ],
   "source": [
    "%%tutor --lang python3\n",
    "a = 1\n",
    "b = 2\n",
    "\n",
    "def add(x, y):\n",
    "    return x + y\n",
    "\n",
    "c = add(a, b)\n",
    "\n",
    "print(c)"
   ]
  },
  {
   "cell_type": "code",
   "execution_count": 117,
   "metadata": {
    "ExecuteTime": {
     "end_time": "2017-01-22T19:50:05.837566",
     "start_time": "2017-01-22T19:50:05.726492"
    },
    "collapsed": false
   },
   "outputs": [
    {
     "data": {
      "text/html": [
       "\n",
       "        <iframe\n",
       "            width=\"100%\"\n",
       "            height=\"350\"\n",
       "            src=\"http://pythontutor.com/iframe-embed.html#code=def%20f%28a%3D0%29%3A%0A%20%20%20%20while%20a%20%3C%205%3A%0A%20%20%20%20%20%20%20%20yield%20a%0A%20%20%20%20%20%20%20%20a%20%2B%3D%201%0A%20%20%20%20%20%20%20%20%0Afor%20i%20in%20f%28%29%3A%0A%20%20%20%20print%28i%29&origin=opt-frontend.js&cumulative=false&heapPrimitives=false&textReferences=false&py=3&rawInputLstJSON=%5B%5D&curInstr=0&codeDivWidth=50%25&codeDivHeight=100%25\"\n",
       "            frameborder=\"0\"\n",
       "            allowfullscreen\n",
       "        ></iframe>\n",
       "        "
      ],
      "text/plain": [
       "<IPython.lib.display.IFrame at 0x1528310>"
      ]
     },
     "metadata": {},
     "output_type": "display_data"
    }
   ],
   "source": [
    "%%tutor --lang python3\n",
    "def f(a=0):\n",
    "    while a < 5:\n",
    "        yield a\n",
    "        a += 1\n",
    "        \n",
    "for i in f():\n",
    "    print(i)"
   ]
  },
  {
   "cell_type": "code",
   "execution_count": 118,
   "metadata": {
    "ExecuteTime": {
     "end_time": "2017-01-22T19:50:05.991669",
     "start_time": "2017-01-22T19:50:05.842569"
    },
    "collapsed": false
   },
   "outputs": [
    {
     "data": {
      "text/html": [
       "\n",
       "        <iframe\n",
       "            width=\"100%\"\n",
       "            height=\"350\"\n",
       "            src=\"http://pythontutor.com/iframe-embed.html#code=x%20%3D%205%0A%0Aif%20x%20%3E%203%3A%0A%20%20%20%20print%28%27%C2%A1Funciona%21%27%29%0Aelif%20x%20%3D%3D%201%3A%0A%20%20%20%20print%28%27x%20es%20igual%20a%201%27%29%0Aelse%3A%0A%20%20%20%20print%28%27No%20funciona...%27%29&origin=opt-frontend.js&cumulative=false&heapPrimitives=false&textReferences=false&py=3&rawInputLstJSON=%5B%5D&curInstr=0&codeDivWidth=50%25&codeDivHeight=100%25\"\n",
       "            frameborder=\"0\"\n",
       "            allowfullscreen\n",
       "        ></iframe>\n",
       "        "
      ],
      "text/plain": [
       "<IPython.lib.display.IFrame at 0x1528910>"
      ]
     },
     "metadata": {},
     "output_type": "display_data"
    }
   ],
   "source": [
    "%%tutor --lang python3\n",
    "x = 5\n",
    "\n",
    "if x > 3:\n",
    "    print('¡Funciona!')\n",
    "elif x == 1:\n",
    "    print('x es igual a 1')\n",
    "else:\n",
    "    print('No funciona...')"
   ]
  }
 ],
 "metadata": {
  "anaconda-cloud": {},
  "kernelspec": {
   "display_name": "Python [conda root]",
   "language": "python",
   "name": "conda-root-py"
  },
  "language_info": {
   "codemirror_mode": {
    "name": "ipython",
    "version": 3
   },
   "file_extension": ".py",
   "mimetype": "text/x-python",
   "name": "python",
   "nbconvert_exporter": "python",
   "pygments_lexer": "ipython3",
   "version": "3.5.2"
  },
  "nav_menu": {},
  "toc": {
   "navigate_menu": true,
   "number_sections": false,
   "sideBar": true,
   "threshold": 6,
   "toc_cell": true,
   "toc_section_display": "block",
   "toc_window_display": false
  }
 },
 "nbformat": 4,
 "nbformat_minor": 0
}
